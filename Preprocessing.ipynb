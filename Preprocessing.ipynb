{
  "nbformat": 4,
  "nbformat_minor": 0,
  "metadata": {
    "colab": {
      "provenance": [],
      "authorship_tag": "ABX9TyMpEpZJXpiuQ/rwt9H535iG",
      "include_colab_link": true
    },
    "kernelspec": {
      "name": "python3",
      "display_name": "Python 3"
    },
    "language_info": {
      "name": "python"
    }
  },
  "cells": [
    {
      "cell_type": "markdown",
      "metadata": {
        "id": "view-in-github",
        "colab_type": "text"
      },
      "source": [
        "<a href=\"https://colab.research.google.com/github/Siddhi2156/mlda/blob/main/Preprocessing.ipynb\" target=\"_parent\"><img src=\"https://colab.research.google.com/assets/colab-badge.svg\" alt=\"Open In Colab\"/></a>"
      ]
    },
    {
      "cell_type": "code",
      "source": [
        "import pandas as pd\n",
        "from sklearn.model_selection import train_test_split\n",
        "from sklearn.preprocessing import LabelEncoder, StandardScaler\n",
        "from sklearn.linear_model import LogisticRegression\n",
        "from sklearn.metrics import accuracy_score, classification_report\n",
        "\n",
        "# Step 1: Load dataset\n",
        "data = pd.read_csv(\"vgsales.csv\")\n",
        "print(\"First 5 rows:\\n\", data.head(), \"\\n\")\n",
        "\n",
        "# Step 2: Drop rows with missing Year\n",
        "data = data.dropna(subset=['Year'])\n",
        "\n",
        "# Step 3: Create binary target (high sales or not)\n",
        "median_sales = data['Global_Sales'].median()\n",
        "data['high_sales'] = (data['Global_Sales'] > median_sales).astype(int)\n",
        "print(\"Median Global Sales:\", median_sales, \"\\n\")\n",
        "\n",
        "# Step 4: Select features and make a COPY to avoid warnings\n",
        "features = ['Platform', 'Year', 'Genre', 'Publisher']\n",
        "X = data[features].copy()\n",
        "y = data['high_sales']\n",
        "\n",
        "# Step 5: Encode categorical columns with LabelEncoder\n",
        "le = LabelEncoder()\n",
        "for col in ['Platform', 'Genre', 'Publisher']:\n",
        "    X.loc[:, col] = le.fit_transform(X[col])\n",
        "\n",
        "# Step 6: Scale numeric feature 'Year'\n",
        "scaler = StandardScaler()\n",
        "X.loc[:, 'Year'] = scaler.fit_transform(X[['Year']])\n",
        "\n",
        "# Step 7: Train-test split\n",
        "X_train, X_test, y_train, y_test = train_test_split(\n",
        "    X, y, test_size=0.2, random_state=42\n",
        ")\n",
        "\n",
        "# Step 8: Logistic Regression model\n",
        "lr = LogisticRegression(max_iter=1000)\n",
        "lr.fit(X_train, y_train)\n",
        "\n",
        "# Step 9: Evaluation\n",
        "y_pred = lr.predict(X_test)\n",
        "print(\"Accuracy:\", accuracy_score(y_test, y_pred))\n",
        "print(\"\\nClassification Report:\\n\", classification_report(y_test, y_pred))"
      ],
      "metadata": {
        "colab": {
          "base_uri": "https://localhost:8080/"
        },
        "id": "g4AHxa_IH5zR",
        "outputId": "9962ae2f-55b3-4ebf-a256-2dfd62bbdb43"
      },
      "execution_count": 3,
      "outputs": [
        {
          "output_type": "stream",
          "name": "stdout",
          "text": [
            "First 5 rows:\n",
            "    Rank                      Name Platform    Year         Genre Publisher  \\\n",
            "0     1                Wii Sports      Wii  2006.0        Sports  Nintendo   \n",
            "1     2         Super Mario Bros.      NES  1985.0      Platform  Nintendo   \n",
            "2     3            Mario Kart Wii      Wii  2008.0        Racing  Nintendo   \n",
            "3     4         Wii Sports Resort      Wii  2009.0        Sports  Nintendo   \n",
            "4     5  Pokemon Red/Pokemon Blue       GB  1996.0  Role-Playing  Nintendo   \n",
            "\n",
            "   NA_Sales  EU_Sales  JP_Sales  Other_Sales  Global_Sales  \n",
            "0     41.49     29.02      3.77         8.46         82.74  \n",
            "1     29.08      3.58      6.81         0.77         40.24  \n",
            "2     15.85     12.88      3.79         3.31         35.82  \n",
            "3     15.75     11.01      3.28         2.96         33.00  \n",
            "4     11.27      8.89     10.22         1.00         31.37   \n",
            "\n",
            "Median Global Sales: 0.17 \n",
            "\n",
            "Accuracy: 0.5688916105327618\n",
            "\n",
            "Classification Report:\n",
            "               precision    recall  f1-score   support\n",
            "\n",
            "           0       0.58      0.61      0.59      1674\n",
            "           1       0.56      0.53      0.54      1592\n",
            "\n",
            "    accuracy                           0.57      3266\n",
            "   macro avg       0.57      0.57      0.57      3266\n",
            "weighted avg       0.57      0.57      0.57      3266\n",
            "\n"
          ]
        }
      ]
    },
    {
      "cell_type": "code",
      "source": [],
      "metadata": {
        "id": "DMaGZhcTIa6G"
      },
      "execution_count": null,
      "outputs": []
    }
  ]
}